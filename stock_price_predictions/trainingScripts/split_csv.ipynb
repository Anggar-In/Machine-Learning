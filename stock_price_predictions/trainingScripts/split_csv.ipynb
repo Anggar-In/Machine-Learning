{
 "cells": [
  {
   "cell_type": "code",
   "execution_count": 1,
   "metadata": {},
   "outputs": [],
   "source": [
    "import os\n",
    "import shutil"
   ]
  },
  {
   "cell_type": "code",
   "execution_count": 5,
   "metadata": {},
   "outputs": [
    {
     "name": "stdout",
     "output_type": "stream",
     "text": [
      "Successfully moved files into 37 batches in ../automationDataset.\n"
     ]
    }
   ],
   "source": [
    "# Path ke folder yang berisi file CSV\n",
    "source_folder = '../automationDataset'\n",
    "# Mendapatkan daftar file CSV di folder\n",
    "csv_files = [f for f in os.listdir(source_folder) if f.endswith('.csv')]\n",
    "\n",
    "# Menghitung jumlah folder batch yang dibutuhkan\n",
    "num_batches = len(csv_files) // 10 + (1 if len(csv_files) % 10 != 0 else 0)\n",
    "\n",
    "# Membuat folder untuk setiap batch di dalam automationDataset\n",
    "for batch_num in range(1, num_batches + 1):\n",
    "    # Membuat nama folder batch\n",
    "    batch_folder = os.path.join(source_folder, f'batch_{batch_num}')\n",
    "    # Membuat folder baru\n",
    "    os.makedirs(batch_folder, exist_ok=True)\n",
    "\n",
    "    # Menentukan file yang akan dipindahkan ke folder batch ini\n",
    "    start_index = (batch_num - 1) * 10\n",
    "    end_index = min(start_index + 10, len(csv_files))\n",
    "    files_to_move = csv_files[start_index:end_index]\n",
    "\n",
    "    # Memindahkan file ke folder batch\n",
    "    for file_name in files_to_move:\n",
    "        src_path = os.path.join(source_folder, file_name)\n",
    "        dest_path = os.path.join(batch_folder, file_name)\n",
    "        shutil.move(src_path, dest_path)\n",
    "\n",
    "print(f'Successfully moved files into {num_batches} batches in {source_folder}.')"
   ]
  }
 ],
 "metadata": {
  "kernelspec": {
   "display_name": "capstone3",
   "language": "python",
   "name": "python3"
  },
  "language_info": {
   "codemirror_mode": {
    "name": "ipython",
    "version": 3
   },
   "file_extension": ".py",
   "mimetype": "text/x-python",
   "name": "python",
   "nbconvert_exporter": "python",
   "pygments_lexer": "ipython3",
   "version": "3.10.15"
  }
 },
 "nbformat": 4,
 "nbformat_minor": 2
}
