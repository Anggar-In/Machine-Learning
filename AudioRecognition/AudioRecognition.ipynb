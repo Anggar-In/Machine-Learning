{
 "cells": [
  {
   "cell_type": "code",
   "execution_count": 6,
   "metadata": {
    "colab": {
     "base_uri": "https://localhost:8080/"
    },
    "id": "EtheBb_c2wHf",
    "outputId": "1c2710c1-f9bc-47e9-beb2-20a60025f518"
   },
   "outputs": [
    {
     "name": "stdout",
     "output_type": "stream",
     "text": [
      "Requirement already satisfied: openai-whisper in /usr/local/lib/python3.10/dist-packages (20240930)\n",
      "Requirement already satisfied: numba in /usr/local/lib/python3.10/dist-packages (from openai-whisper) (0.60.0)\n",
      "Requirement already satisfied: numpy in /usr/local/lib/python3.10/dist-packages (from openai-whisper) (1.23.5)\n",
      "Requirement already satisfied: torch in /usr/local/lib/python3.10/dist-packages (from openai-whisper) (2.5.1+cu121)\n",
      "Requirement already satisfied: tqdm in /usr/local/lib/python3.10/dist-packages (from openai-whisper) (4.66.6)\n",
      "Requirement already satisfied: more-itertools in /usr/local/lib/python3.10/dist-packages (from openai-whisper) (10.5.0)\n",
      "Requirement already satisfied: tiktoken in /usr/local/lib/python3.10/dist-packages (from openai-whisper) (0.8.0)\n",
      "Requirement already satisfied: triton>=2.0.0 in /usr/local/lib/python3.10/dist-packages (from openai-whisper) (3.1.0)\n",
      "Requirement already satisfied: filelock in /usr/local/lib/python3.10/dist-packages (from triton>=2.0.0->openai-whisper) (3.16.1)\n",
      "Requirement already satisfied: llvmlite<0.44,>=0.43.0dev0 in /usr/local/lib/python3.10/dist-packages (from numba->openai-whisper) (0.43.0)\n",
      "Requirement already satisfied: regex>=2022.1.18 in /usr/local/lib/python3.10/dist-packages (from tiktoken->openai-whisper) (2024.9.11)\n",
      "Requirement already satisfied: requests>=2.26.0 in /usr/local/lib/python3.10/dist-packages (from tiktoken->openai-whisper) (2.32.3)\n",
      "Requirement already satisfied: typing-extensions>=4.8.0 in /usr/local/lib/python3.10/dist-packages (from torch->openai-whisper) (4.12.2)\n",
      "Requirement already satisfied: networkx in /usr/local/lib/python3.10/dist-packages (from torch->openai-whisper) (3.4.2)\n",
      "Requirement already satisfied: jinja2 in /usr/local/lib/python3.10/dist-packages (from torch->openai-whisper) (3.1.4)\n",
      "Requirement already satisfied: fsspec in /usr/local/lib/python3.10/dist-packages (from torch->openai-whisper) (2024.9.0)\n",
      "Requirement already satisfied: sympy==1.13.1 in /usr/local/lib/python3.10/dist-packages (from torch->openai-whisper) (1.13.1)\n",
      "Requirement already satisfied: mpmath<1.4,>=1.1.0 in /usr/local/lib/python3.10/dist-packages (from sympy==1.13.1->torch->openai-whisper) (1.3.0)\n",
      "Requirement already satisfied: charset-normalizer<4,>=2 in /usr/local/lib/python3.10/dist-packages (from requests>=2.26.0->tiktoken->openai-whisper) (3.4.0)\n",
      "Requirement already satisfied: idna<4,>=2.5 in /usr/local/lib/python3.10/dist-packages (from requests>=2.26.0->tiktoken->openai-whisper) (3.10)\n",
      "Requirement already satisfied: urllib3<3,>=1.21.1 in /usr/local/lib/python3.10/dist-packages (from requests>=2.26.0->tiktoken->openai-whisper) (2.2.3)\n",
      "Requirement already satisfied: certifi>=2017.4.17 in /usr/local/lib/python3.10/dist-packages (from requests>=2.26.0->tiktoken->openai-whisper) (2024.8.30)\n",
      "Requirement already satisfied: MarkupSafe>=2.0 in /usr/local/lib/python3.10/dist-packages (from jinja2->torch->openai-whisper) (3.0.2)\n"
     ]
    }
   ],
   "source": [
    "!pip install openai-whisper\n"
   ]
  },
  {
   "cell_type": "code",
   "execution_count": 7,
   "metadata": {
    "id": "-onZBexA20Tc"
   },
   "outputs": [],
   "source": [
    "import whisper\n",
    "model = whisper.load_model(\"medium\")\n"
   ]
  },
  {
   "cell_type": "code",
   "execution_count": 36,
   "metadata": {
    "colab": {
     "base_uri": "https://localhost:8080/"
    },
    "id": "hI2Nq_Jb6AkN",
    "outputId": "8a872cea-6857-49f6-b5ab-dc8e46bb892d"
   },
   "outputs": [
    {
     "name": "stderr",
     "output_type": "stream",
     "text": [
      "/usr/local/lib/python3.10/dist-packages/whisper/transcribe.py:126: UserWarning: FP16 is not supported on CPU; using FP32 instead\n",
      "  warnings.warn(\"FP16 is not supported on CPU; using FP32 instead\")\n"
     ]
    },
    {
     "name": "stdout",
     "output_type": "stream",
     "text": [
      "Transkripsi:  Aku hari ini membeli bakso, soto, dan ketupat di toko Makmur Jaya dengan total Rp50.000\n"
     ]
    }
   ],
   "source": [
    "audio_path = \"/content/contoh_audio.mp3\"\n",
    "\n",
    "result = model.transcribe(audio_path, language=\"indonesian\")\n",
    "print(\"Transkripsi:\", result[\"text\"])\n"
   ]
  },
  {
   "cell_type": "code",
   "execution_count": 65,
   "metadata": {
    "colab": {
     "base_uri": "https://localhost:8080/"
    },
    "id": "YQHDLeCC6F7k",
    "outputId": "86c6b3de-53cd-4870-a807-56729bef5d51"
   },
   "outputs": [
    {
     "name": "stdout",
     "output_type": "stream",
     "text": [
      "Company: toko Makmur Jaya\n",
      "Date: 02-12-2024\n",
      "Items:\n",
      "- bakso\n",
      "- soto\n",
      "- ketupat\n",
      "Total: 50000\n"
     ]
    }
   ],
   "source": [
    "import re\n",
    "from datetime import datetime, timedelta\n",
    "\n",
    "MONTHS = {\n",
    "    \"januari\": \"01\",\n",
    "    \"februari\": \"02\",\n",
    "    \"maret\": \"03\",\n",
    "    \"april\": \"04\",\n",
    "    \"mei\": \"05\",\n",
    "    \"juni\": \"06\",\n",
    "    \"juli\": \"07\",\n",
    "    \"agustus\": \"08\",\n",
    "    \"september\": \"09\",\n",
    "    \"oktober\": \"10\",\n",
    "    \"november\": \"11\",\n",
    "    \"desember\": \"12\",\n",
    "}\n",
    "\n",
    "def parse_date(phrase):\n",
    "    \"\"\"Mengubah tanggal dalam berbagai format menjadi DD-MM-YYYY.\"\"\"\n",
    "    today = datetime.today()\n",
    "    year = today.year\n",
    "\n",
    "    patterns = [\n",
    "        r\"(\\d{1,2})\\s+(\\w+)\\s+(\\d{4})\",\n",
    "        r\"(\\d{1,2})\\s+(\\w+)\",\n",
    "        r\"(\\d{1,2})\\s+bulan\\s+(\\d{1,2})\\s+tahun\\s+(\\d{4})\",\n",
    "        r\"(\\d{1,2})\\s+bulan\\s+(\\d{1,2})\\s+(\\d{4})\",\n",
    "    ]\n",
    "\n",
    "    for pattern in patterns:\n",
    "        match = re.search(pattern, phrase, re.IGNORECASE)\n",
    "        if match:\n",
    "            if len(match.groups()) == 3 and pattern == patterns[0]:\n",
    "                day, month_str, year = match.groups()\n",
    "                month = MONTHS.get(month_str.lower(), \"01\")\n",
    "                return f\"{int(day):02d}-{month}-{year}\"\n",
    "\n",
    "            elif len(match.groups()) == 2 and pattern == patterns[1]:\n",
    "                day, month_str = match.groups()\n",
    "                month = MONTHS.get(month_str.lower(), \"01\")\n",
    "                return f\"{int(day):02d}-{month}-{year}\"\n",
    "\n",
    "            elif len(match.groups()) == 3 and pattern == patterns[2]:\n",
    "                day, month, year = match.groups()\n",
    "                return f\"{int(day):02d}-{int(month):02d}-{year}\"\n",
    "\n",
    "    if \"hari ini\" in phrase:\n",
    "        return today.strftime(\"%d-%m-%Y\")\n",
    "    elif \"kemarin\" in phrase:\n",
    "        return (today - timedelta(days=1)).strftime(\"%d-%m-%Y\")\n",
    "    elif match := re.search(r\"(\\d+)\\s*hari yang lalu\", phrase):\n",
    "        days_ago = int(match.group(1))\n",
    "        return (today - timedelta(days=days_ago)).strftime(\"%d-%m-%Y\")\n",
    "\n",
    "    return None\n",
    "\n",
    "def parse_total(total_str):\n",
    "    total_str = total_str.lower().replace(\"rp\", \"\").replace(\".\", \"\").replace(\",\", \"\")\n",
    "    if \"ribu\" in total_str:\n",
    "        total_str = total_str.replace(\"ribu\", \"\").strip()\n",
    "        return int(total_str) * 1000\n",
    "    elif \"juta\" in total_str:\n",
    "        total_str = total_str.replace(\"juta\", \"\").strip()\n",
    "        return int(total_str) * 1000000\n",
    "    elif \"miliar\" in total_str:\n",
    "        total_str = total_str.replace(\"miliar\", \"\").strip()\n",
    "        return int(total_str) * 1000000000\n",
    "    elif \"triliun\" in total_str:\n",
    "        total_str = total_str.replace(\"triliun\", \"\").strip()\n",
    "        return int(total_str) * 1000000000000\n",
    "    return int(total_str)\n",
    "\n",
    "def extract_transcribed_data(text):\n",
    "    pattern = re.compile(\n",
    "        r\"(?:\\w+)\\s+(hari ini|kemarin|\\d+\\s*hari yang lalu|tanggal\\s*\\d{1,2}-\\d{1,2}-\\d{4}|\\d{1,2}\\s+\\w+\\s+\\d{4}|\\d{1,2}\\s+\\w+|\\d{1,2}\\s+bulan\\s+\\d{1,2}\\s+tahun\\s+\\d{4})\"\n",
    "        r\"\\s+(?:membeli|beli|dibeli)\\s+(.+?)\\s+di\\s+(.+?)\\s+dengan total\\w*\\s+([\\w\\s,.]+)\",\n",
    "        re.IGNORECASE,\n",
    "    )\n",
    "    match = pattern.search(text)\n",
    "    if not match:\n",
    "        return None\n",
    "\n",
    "    raw_date = match.group(1)\n",
    "    items = match.group(2)\n",
    "    company = match.group(3)\n",
    "    raw_total = match.group(4)\n",
    "\n",
    "    date = parse_date(raw_date)\n",
    "    total = parse_total(raw_total)\n",
    "\n",
    "    items_list = [\n",
    "        item.strip()\n",
    "        for item in re.split(r\",\\s*(?=dan)|,\\s*|dan\\s*\", items)\n",
    "        if item.strip()\n",
    "    ]\n",
    "\n",
    "    return {\n",
    "        \"Company\": company,\n",
    "        \"Date\": date,\n",
    "        \"Items\": items_list,\n",
    "        \"Total\": total,\n",
    "    }\n",
    "\n",
    "transcribed_text = result[\"text\"]\n",
    "extracted_data = extract_transcribed_data(transcribed_text)\n",
    "\n",
    "if extracted_data:\n",
    "    print(\"Company:\", extracted_data[\"Company\"])\n",
    "    print(\"Date:\", extracted_data[\"Date\"])\n",
    "    print(\"Items:\")\n",
    "    for item in extracted_data[\"Items\"]:\n",
    "        print(f\"- {item}\")\n",
    "    print(\"Total:\", extracted_data[\"Total\"])\n",
    "else:\n",
    "    print(\"Kalimat tidak sesuai format.\")\n"
   ]
  }
 ],
 "metadata": {
  "colab": {
   "provenance": []
  },
  "kernelspec": {
   "display_name": "Python 3",
   "name": "python3"
  },
  "language_info": {
   "name": "python"
  }
 },
 "nbformat": 4,
 "nbformat_minor": 0
}
