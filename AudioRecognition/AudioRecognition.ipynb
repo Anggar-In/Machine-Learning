{
  "nbformat": 4,
  "nbformat_minor": 0,
  "metadata": {
    "colab": {
      "provenance": []
    },
    "kernelspec": {
      "name": "python3",
      "display_name": "Python 3"
    },
    "language_info": {
      "name": "python"
    }
  },
  "cells": [
    {
      "cell_type": "code",
      "source": [
        "!pip install openai-whisper\n"
      ],
      "metadata": {
        "colab": {
          "base_uri": "https://localhost:8080/"
        },
        "id": "EtheBb_c2wHf",
        "outputId": "1c2710c1-f9bc-47e9-beb2-20a60025f518"
      },
      "execution_count": 6,
      "outputs": [
        {
          "output_type": "stream",
          "name": "stdout",
          "text": [
            "Requirement already satisfied: openai-whisper in /usr/local/lib/python3.10/dist-packages (20240930)\n",
            "Requirement already satisfied: numba in /usr/local/lib/python3.10/dist-packages (from openai-whisper) (0.60.0)\n",
            "Requirement already satisfied: numpy in /usr/local/lib/python3.10/dist-packages (from openai-whisper) (1.23.5)\n",
            "Requirement already satisfied: torch in /usr/local/lib/python3.10/dist-packages (from openai-whisper) (2.5.1+cu121)\n",
            "Requirement already satisfied: tqdm in /usr/local/lib/python3.10/dist-packages (from openai-whisper) (4.66.6)\n",
            "Requirement already satisfied: more-itertools in /usr/local/lib/python3.10/dist-packages (from openai-whisper) (10.5.0)\n",
            "Requirement already satisfied: tiktoken in /usr/local/lib/python3.10/dist-packages (from openai-whisper) (0.8.0)\n",
            "Requirement already satisfied: triton>=2.0.0 in /usr/local/lib/python3.10/dist-packages (from openai-whisper) (3.1.0)\n",
            "Requirement already satisfied: filelock in /usr/local/lib/python3.10/dist-packages (from triton>=2.0.0->openai-whisper) (3.16.1)\n",
            "Requirement already satisfied: llvmlite<0.44,>=0.43.0dev0 in /usr/local/lib/python3.10/dist-packages (from numba->openai-whisper) (0.43.0)\n",
            "Requirement already satisfied: regex>=2022.1.18 in /usr/local/lib/python3.10/dist-packages (from tiktoken->openai-whisper) (2024.9.11)\n",
            "Requirement already satisfied: requests>=2.26.0 in /usr/local/lib/python3.10/dist-packages (from tiktoken->openai-whisper) (2.32.3)\n",
            "Requirement already satisfied: typing-extensions>=4.8.0 in /usr/local/lib/python3.10/dist-packages (from torch->openai-whisper) (4.12.2)\n",
            "Requirement already satisfied: networkx in /usr/local/lib/python3.10/dist-packages (from torch->openai-whisper) (3.4.2)\n",
            "Requirement already satisfied: jinja2 in /usr/local/lib/python3.10/dist-packages (from torch->openai-whisper) (3.1.4)\n",
            "Requirement already satisfied: fsspec in /usr/local/lib/python3.10/dist-packages (from torch->openai-whisper) (2024.9.0)\n",
            "Requirement already satisfied: sympy==1.13.1 in /usr/local/lib/python3.10/dist-packages (from torch->openai-whisper) (1.13.1)\n",
            "Requirement already satisfied: mpmath<1.4,>=1.1.0 in /usr/local/lib/python3.10/dist-packages (from sympy==1.13.1->torch->openai-whisper) (1.3.0)\n",
            "Requirement already satisfied: charset-normalizer<4,>=2 in /usr/local/lib/python3.10/dist-packages (from requests>=2.26.0->tiktoken->openai-whisper) (3.4.0)\n",
            "Requirement already satisfied: idna<4,>=2.5 in /usr/local/lib/python3.10/dist-packages (from requests>=2.26.0->tiktoken->openai-whisper) (3.10)\n",
            "Requirement already satisfied: urllib3<3,>=1.21.1 in /usr/local/lib/python3.10/dist-packages (from requests>=2.26.0->tiktoken->openai-whisper) (2.2.3)\n",
            "Requirement already satisfied: certifi>=2017.4.17 in /usr/local/lib/python3.10/dist-packages (from requests>=2.26.0->tiktoken->openai-whisper) (2024.8.30)\n",
            "Requirement already satisfied: MarkupSafe>=2.0 in /usr/local/lib/python3.10/dist-packages (from jinja2->torch->openai-whisper) (3.0.2)\n"
          ]
        }
      ]
    },
    {
      "cell_type": "code",
      "source": [
        "import whisper\n",
        "model = whisper.load_model(\"medium\")\n"
      ],
      "metadata": {
        "id": "-onZBexA20Tc"
      },
      "execution_count": 7,
      "outputs": []
    },
    {
      "cell_type": "markdown",
      "source": [
        "Format: [Nama/Aku/Saya] [Tanggal] membeli [Items] di [Nama Toko] dengan total [Total Harga]"
      ],
      "metadata": {
        "id": "nAnccBltIjga"
      }
    },
    {
      "cell_type": "code",
      "source": [
        "audio_path = \"/content/Recording (12).m4a\"\n",
        "\n",
        "result = model.transcribe(audio_path, language=\"indonesian\")\n",
        "print(\"Transkripsi:\", result[\"text\"])\n"
      ],
      "metadata": {
        "colab": {
          "base_uri": "https://localhost:8080/"
        },
        "id": "hI2Nq_Jb6AkN",
        "outputId": "2e1336ab-a368-436c-e27e-23bbb5a4fba7"
      },
      "execution_count": 255,
      "outputs": [
        {
          "output_type": "stream",
          "name": "stderr",
          "text": [
            "/usr/local/lib/python3.10/dist-packages/whisper/transcribe.py:126: UserWarning: FP16 is not supported on CPU; using FP32 instead\n",
            "  warnings.warn(\"FP16 is not supported on CPU; using FP32 instead\")\n"
          ]
        },
        {
          "output_type": "stream",
          "name": "stdout",
          "text": [
            "Transkripsi:  Amir 5 hari yang lalu membeli mayones, sate, ayam goreng, dan kecap di Indo-Maret dengan total 20 ribu.\n"
          ]
        }
      ]
    },
    {
      "cell_type": "code",
      "source": [
        "import re\n",
        "from datetime import datetime, timedelta\n",
        "\n",
        "MONTHS = {\n",
        "    \"januari\": \"01\",\n",
        "    \"februari\": \"02\",\n",
        "    \"maret\": \"03\",\n",
        "    \"april\": \"04\",\n",
        "    \"mei\": \"05\",\n",
        "    \"juni\": \"06\",\n",
        "    \"juli\": \"07\",\n",
        "    \"agustus\": \"08\",\n",
        "    \"september\": \"09\",\n",
        "    \"oktober\": \"10\",\n",
        "    \"november\": \"11\",\n",
        "    \"desember\": \"12\",\n",
        "}\n",
        "\n",
        "def parse_date(phrase):\n",
        "    \"\"\"Mengubah tanggal dalam berbagai format menjadi DD-MM-YYYY.\"\"\"\n",
        "    today = datetime.today()\n",
        "\n",
        "    if \"hari ini\" in phrase:\n",
        "        return today.strftime(\"%d-%m-%Y\")\n",
        "    elif \"kemarin\" in phrase:\n",
        "        return (today - timedelta(days=1)).strftime(\"%d-%m-%Y\")\n",
        "    elif match := re.search(r\"(\\d+)\\s*hari(?:\\s+yang)?\\s+lalu\", phrase):\n",
        "        days_ago = int(match.group(1))\n",
        "        calculated_date = today - timedelta(days=days_ago)\n",
        "        return calculated_date.strftime(\"%d-%m-%Y\")\n",
        "\n",
        "    patterns = [\n",
        "        r\"(\\d{1,2})\\s+(\\w+)\\s+(\\d{4})\",\n",
        "        r\"(\\d{1,2})\\s+(\\w+)\",\n",
        "    ]\n",
        "\n",
        "    for pattern in patterns:\n",
        "        match = re.search(pattern, phrase, re.IGNORECASE)\n",
        "        if match:\n",
        "            if len(match.groups()) == 3 and pattern == patterns[0]:\n",
        "                day, month_str, year = match.groups()\n",
        "                month = MONTHS.get(month_str.lower(), \"01\")\n",
        "                return f\"{int(day):02d}-{month}-{year}\"\n",
        "            elif len(match.groups()) == 2 and pattern == patterns[1]:\n",
        "                day, month_str = match.groups()\n",
        "                month = MONTHS.get(month_str.lower(), \"01\")\n",
        "                return f\"{int(day):02d}-{month}-{today.year}\"\n",
        "            elif len(match.groups()) == 3 and pattern == patterns[2]:\n",
        "                day, month, year = match.groups()\n",
        "                return f\"{int(day):02d}-{int(month):02d}-{year}\"\n",
        "\n",
        "    return None\n",
        "\n",
        "\n",
        "def parse_total(total_str):\n",
        "    total_str = total_str.lower().replace(\"rp\", \"\").replace(\".\", \"\").replace(\",\", \"\")\n",
        "    if \"ribu\" in total_str:\n",
        "        total_str = total_str.replace(\"ribu\", \"\").strip()\n",
        "        return int(total_str) * 1000\n",
        "    elif \"juta\" in total_str:\n",
        "        total_str = total_str.replace(\"juta\", \"\").strip()\n",
        "        return int(total_str) * 1000000\n",
        "    elif \"miliar\" in total_str:\n",
        "        total_str = total_str.replace(\"miliar\", \"\").strip()\n",
        "        return int(total_str) * 1000000000\n",
        "    elif \"triliun\" in total_str:\n",
        "        total_str = total_str.replace(\"triliun\", \"\").strip()\n",
        "        return int(total_str) * 1000000000000\n",
        "    return int(total_str)\n",
        "\n",
        "def extract_transcribed_data(text):\n",
        "    invalid_date_patterns = [\n",
        "        r\"\\d{1,2}\\s+bulan\\s+\\d{1,2}\\s+tahun\\s+\\d{4}\",\n",
        "        r\"\\d{1,2}\\s+bulan\\s+\\d{1,2}\\s+\\d{4}\",\n",
        "    ]\n",
        "    for pattern in invalid_date_patterns:\n",
        "        if re.search(pattern, text, re.IGNORECASE):\n",
        "            return None\n",
        "\n",
        "    pattern = re.compile(\n",
        "        r\"(?:\\w+)\\s+(hari ini|kemarin|\\d+\\s*hari(?:\\s+yang)?\\s+lalu|tanggal\\s*\\d{1,2}-\\d{1,2}-\\d{4}|\\d{1,2}\\s+\\w+\\s+\\d{4}|\\d{1,2}\\s+\\w+|\\d{1,2}\\s+bulan\\s+\\d{1,2}\\s+tahun\\s+\\d{4})\"\n",
        "        r\"\\s+(?:membeli|beli|dibeli)\\s+(.+?)\\s+di\\s+(.+?)\\s+dengan total\\w*\\s+([\\w\\s,.]+)\",\n",
        "        re.IGNORECASE,\n",
        "    )\n",
        "    match = pattern.search(text)\n",
        "    if not match:\n",
        "        return None\n",
        "\n",
        "    raw_date = match.group(1)\n",
        "    items = match.group(2)\n",
        "    company = match.group(3)\n",
        "    raw_total = match.group(4)\n",
        "\n",
        "    date = parse_date(raw_date)\n",
        "    total = parse_total(raw_total)\n",
        "\n",
        "    items_list = [\n",
        "        item.strip()\n",
        "        for item in re.split(r\",\\s*(?=dan)|,\\s*|dan\\s*\", items)\n",
        "        if item.strip()\n",
        "    ]\n",
        "\n",
        "    return {\n",
        "        \"Company\": company,\n",
        "        \"Date\": date,\n",
        "        \"Items\": items_list,\n",
        "        \"Total\": total,\n",
        "    }\n",
        "\n",
        "transcribed_text = result[\"text\"]\n",
        "extracted_data = extract_transcribed_data(transcribed_text)\n",
        "\n",
        "if extracted_data:\n",
        "    print(\"Company:\", extracted_data[\"Company\"])\n",
        "    print(\"Date:\", extracted_data[\"Date\"])\n",
        "    print(\"Items:\")\n",
        "    for item in extracted_data[\"Items\"]:\n",
        "        print(f\"- {item}\")\n",
        "    print(\"Total:\", extracted_data[\"Total\"])\n",
        "else:\n",
        "    print(\"Kalimat tidak sesuai format.\")\n"
      ],
      "metadata": {
        "colab": {
          "base_uri": "https://localhost:8080/"
        },
        "id": "YQHDLeCC6F7k",
        "outputId": "b23dfa95-c83f-4bac-9be0-1115fccec54e"
      },
      "execution_count": 256,
      "outputs": [
        {
          "output_type": "stream",
          "name": "stdout",
          "text": [
            "Company: Indo-Maret\n",
            "Date: 27-11-2024\n",
            "Items:\n",
            "- mayones\n",
            "- sate\n",
            "- ayam goreng\n",
            "- kecap\n",
            "Total: 20000\n"
          ]
        }
      ]
    }
  ]
}