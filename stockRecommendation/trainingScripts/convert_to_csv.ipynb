{
 "cells": [
  {
   "cell_type": "code",
   "execution_count": 3,
   "metadata": {},
   "outputs": [],
   "source": [
    "import pandas as pd"
   ]
  },
  {
   "cell_type": "code",
   "execution_count": null,
   "metadata": {},
   "outputs": [
    {
     "name": "stdout",
     "output_type": "stream",
     "text": [
      "Spreadsheet converted to company_information.csv\n"
     ]
    }
   ],
   "source": [
    "# Load the spreadsheet (Excel file)\n",
    "file_path = '../trainingDataset/information.xlsx'  # replace with the path to your file\n",
    "df = pd.read_excel(file_path)\n",
    "\n",
    "# Convert to CSV\n",
    "csv_file_path = 'company_information.csv'  # specify the output file name\n",
    "df.to_csv(csv_file_path, index=False)\n",
    "\n",
    "print(f\"Spreadsheet converted to {csv_file_path}\")"
   ]
  }
 ],
 "metadata": {
  "kernelspec": {
   "display_name": "tfjs",
   "language": "python",
   "name": "python3"
  },
  "language_info": {
   "codemirror_mode": {
    "name": "ipython",
    "version": 3
   },
   "file_extension": ".py",
   "mimetype": "text/x-python",
   "name": "python",
   "nbconvert_exporter": "python",
   "pygments_lexer": "ipython3",
   "version": "3.8.20"
  }
 },
 "nbformat": 4,
 "nbformat_minor": 2
}
