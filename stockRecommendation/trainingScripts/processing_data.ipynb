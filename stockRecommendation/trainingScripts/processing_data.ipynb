{
 "cells": [
  {
   "cell_type": "code",
   "execution_count": null,
   "metadata": {},
   "outputs": [
    {
     "name": "stdout",
     "output_type": "stream",
     "text": [
      "Normalisasi hanya untuk kolom 'Sector' selesai. File hasil disimpan di: ../trainingDataset/new_encoded_company_information.csv\n"
     ]
    }
   ],
   "source": [
    "import pandas as pd\n",
    "from sklearn.preprocessing import MinMaxScaler\n",
    "\n",
    "# Memuat dataset\n",
    "file_path = '../trainingDataset/company_information.csv'  # Ganti dengan path file Anda\n",
    "data = pd.read_csv(file_path)\n",
    "\n",
    "# One-Hot Encoding untuk kolom 'Sector'\n",
    "sector_encoded = pd.get_dummies(data['Sector'], prefix='Sector')\n",
    "\n",
    "# Menentukan fitur numerik yang relevan untuk normalisasi\n",
    "numerical_features = [\n",
    "    'Revenue (IDR)', 'Gross Profit (IDR)', 'Net Income (IDR)',\n",
    "    'Market Cap (IDR)', 'Annual EPS', 'Return on Equity (%)',\n",
    "    '1 Year Price Returns (%)', '3 Year Price Returns (%)',\n",
    "    '5 Year Price Returns (%)', 'Dividend Yield (%)', 'Payout Ratio (%)'\n",
    "]  # Ganti dengan nama kolom numerik yang sesuai\n",
    "features_numerical = data[numerical_features]\n",
    "\n",
    "# Gabungkan fitur numerik dan hasil One-Hot Encoding untuk kolom 'Sector'\n",
    "features = pd.concat([sector_encoded, features_numerical], axis=1)\n",
    "\n",
    "# Normalisasi hanya untuk kolom hasil One-Hot Encoding\n",
    "scaler = MinMaxScaler()\n",
    "sector_encoded_scaled = scaler.fit_transform(sector_encoded)\n",
    "\n",
    "# Gabungkan kembali data yang sudah dinormalisasi dengan kolom lain\n",
    "sector_encoded_scaled_df = pd.DataFrame(sector_encoded_scaled, columns=sector_encoded.columns)\n",
    "\n",
    "# Gabungkan data hasil normalisasi dengan fitur numerik lainnya\n",
    "final_data = pd.concat([sector_encoded_scaled_df, features_numerical], axis=1)\n",
    "\n",
    "# Simpan nama saham untuk referensi\n",
    "stocks = data['Kode Saham']\n",
    "\n",
    "# Gabungkan kembali data yang sudah dinormalisasi dengan kolom 'Kode Saham'\n",
    "final_data['Kode Saham'] = stocks\n",
    "\n",
    "# Menyimpan hasil ke file baru\n",
    "output_path = '../trainingDataset/new_encoded_company_information.csv'  # Ganti dengan path tujuan\n",
    "final_data.to_csv(output_path, index=False)\n",
    "\n",
    "print(\"Normalisasi hanya untuk kolom 'Sector' selesai. File hasil disimpan di:\", output_path)\n"
   ]
  }
 ],
 "metadata": {
  "kernelspec": {
   "display_name": "capstone3",
   "language": "python",
   "name": "python3"
  },
  "language_info": {
   "codemirror_mode": {
    "name": "ipython",
    "version": 3
   },
   "file_extension": ".py",
   "mimetype": "text/x-python",
   "name": "python",
   "nbconvert_exporter": "python",
   "pygments_lexer": "ipython3",
   "version": "3.10.15"
  }
 },
 "nbformat": 4,
 "nbformat_minor": 2
}
