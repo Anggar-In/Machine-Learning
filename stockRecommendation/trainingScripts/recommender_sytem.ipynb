{
 "cells": [
  {
   "cell_type": "code",
   "execution_count": null,
   "metadata": {},
   "outputs": [],
   "source": [
    "import os\n",
    "import pandas as pd\n",
    "import tensorflow as tf\n",
    "from sklearn.preprocessing import MinMaxScaler\n",
    "from sklearn.metrics.pairwise import cosine_similarity\n",
    "from sklearn.cluster import KMeans\n",
    "from sklearn.metrics import silhouette_score"
   ]
  },
  {
   "cell_type": "code",
   "execution_count": null,
   "metadata": {},
   "outputs": [],
   "source": [
    "# Load data dari URL\n",
    "url = 'https://storage.googleapis.com/anggarin_bucket/dataset/company_information.csv'\n",
    "data = pd.read_csv(url)"
   ]
  },
  {
   "cell_type": "code",
   "execution_count": null,
   "metadata": {},
   "outputs": [],
   "source": [
    "# Bersihkan data numerik\n",
    "numerical_features = [\n",
    "    'Revenue (IDR)', 'Gross Profit (IDR)', 'Net Income (IDR)',\n",
    "    'Market Cap (IDR)', 'Annual EPS', 'Return on Equity (%)',\n",
    "    '1 Year Price Returns (%)', '3 Year Price Returns (%)',\n",
    "    '5 Year Price Returns (%)', 'Dividend Yield (%)', 'Payout Ratio (%)'\n",
    "]\n",
    "for col in numerical_features:\n",
    "    data[col] = data[col].replace({',': '', '%': ''}, regex=True).astype(float)"
   ]
  },
  {
   "cell_type": "code",
   "execution_count": null,
   "metadata": {},
   "outputs": [],
   "source": [
    "# Gunakan hanya fitur numerik yang relevan\n",
    "features = data[numerical_features]\n",
    "\n",
    "# Normalisasi data\n",
    "scaler = MinMaxScaler()\n",
    "features_scaled = scaler.fit_transform(features)\n",
    "\n",
    "# Simpan nama saham untuk referensi\n",
    "stocks = data['Kode Saham']"
   ]
  },
  {
   "cell_type": "code",
   "execution_count": null,
   "metadata": {},
   "outputs": [
    {
     "name": "stdout",
     "output_type": "stream",
     "text": [
      "Model: \"model\"\n",
      "_________________________________________________________________\n",
      " Layer (type)                Output Shape              Param #   \n",
      "=================================================================\n",
      " stock_features (InputLayer  [(None, 11)]              0         \n",
      " )                                                               \n",
      "                                                                 \n",
      " dense (Dense)               (None, 128)               1536      \n",
      "                                                                 \n",
      " dense_1 (Dense)             (None, 64)                8256      \n",
      "                                                                 \n",
      " embedding (Dense)           (None, 32)                2080      \n",
      "                                                                 \n",
      " dense_2 (Dense)             (None, 64)                2112      \n",
      "                                                                 \n",
      " dense_3 (Dense)             (None, 128)               8320      \n",
      "                                                                 \n",
      " dense_4 (Dense)             (None, 11)                1419      \n",
      "                                                                 \n",
      "=================================================================\n",
      "Total params: 23723 (92.67 KB)\n",
      "Trainable params: 23723 (92.67 KB)\n",
      "Non-trainable params: 0 (0.00 Byte)\n",
      "_________________________________________________________________\n"
     ]
    }
   ],
   "source": [
    "# Input layer\n",
    "input_stock = tf.keras.layers.Input(shape=(features_scaled.shape[1],), name=\"stock_features\")\n",
    "\n",
    "# Encoder: Mengubah ke 32 dimensi\n",
    "x = tf.keras.layers.Dense(128, activation='relu')(input_stock)\n",
    "x = tf.keras.layers.Dense(64, activation='relu')(x)\n",
    "embedding = tf.keras.layers.Dense(32, activation='relu', name=\"embedding\")(x)\n",
    "\n",
    "# Decoder: Mengembalikan ke dimensi asli\n",
    "x = tf.keras.layers.Dense(64, activation='relu')(embedding)\n",
    "x = tf.keras.layers.Dense(128, activation='relu')(x)\n",
    "output_reconstructed = tf.keras.layers.Dense(features_scaled.shape[1], activation='linear')(x)\n",
    "\n",
    "# Model\n",
    "model = tf.keras.Model(inputs=input_stock, outputs=output_reconstructed)\n",
    "model.compile(optimizer='adam', loss=tf.keras.losses.MeanSquaredError())\n",
    "model.summary()"
   ]
  },
  {
   "cell_type": "code",
   "execution_count": null,
   "metadata": {},
   "outputs": [
    {
     "data": {
      "text/plain": [
       "<keras.src.callbacks.History at 0x29c3cce0550>"
      ]
     },
     "metadata": {},
     "output_type": "display_data"
    }
   ],
   "source": [
    "# Latih model\n",
    "model.fit(features_scaled, features_scaled, epochs=100, batch_size=2, verbose=0)"
   ]
  },
  {
   "cell_type": "code",
   "execution_count": null,
   "metadata": {},
   "outputs": [
    {
     "name": "stdout",
     "output_type": "stream",
     "text": [
      "3/3 [==============================] - 0s 1ms/step\n"
     ]
    }
   ],
   "source": [
    "# Ekstrak embedding\n",
    "encoder = tf.keras.Model(inputs=input_stock, outputs=embedding)\n",
    "embeddings = encoder.predict(features_scaled)"
   ]
  },
  {
   "cell_type": "code",
   "execution_count": null,
   "metadata": {},
   "outputs": [],
   "source": [
    "# Hitung kemiripan kosinus\n",
    "similarity_matrix = cosine_similarity(embeddings)"
   ]
  },
  {
   "cell_type": "code",
   "execution_count": null,
   "metadata": {},
   "outputs": [
    {
     "name": "stdout",
     "output_type": "stream",
     "text": [
      "3/3 [==============================] - 0s 2ms/step\n",
      "Reconstruction MSE: 0.0002\n"
     ]
    }
   ],
   "source": [
    "# Evaluasi Autoencoder\n",
    "reconstructed = model.predict(features_scaled)\n",
    "mse = tf.keras.losses.MeanSquaredError()(features_scaled, reconstructed).numpy()\n",
    "print(f\"Reconstruction MSE: {mse:.4f}\")\n"
   ]
  },
  {
   "cell_type": "code",
   "execution_count": null,
   "metadata": {},
   "outputs": [
    {
     "name": "stderr",
     "output_type": "stream",
     "text": [
      "c:\\Users\\Ulhaq\\miniconda3\\envs\\recommender\\lib\\site-packages\\sklearn\\cluster\\_kmeans.py:1416: FutureWarning: The default value of `n_init` will change from 10 to 'auto' in 1.4. Set the value of `n_init` explicitly to suppress the warning\n",
      "  super()._check_params_vs_input(X, default_n_init=10)\n"
     ]
    },
    {
     "name": "stdout",
     "output_type": "stream",
     "text": [
      "Silhouette Score: 0.2033\n",
      "Cluster Summary:\n",
      "         Revenue (IDR)  Gross Profit (IDR)  Net Income (IDR)  \\\n",
      "Cluster                                                        \n",
      "0         1.984337e+13        6.138118e+12      1.873947e+12   \n",
      "1         1.684212e+14        4.111375e+13      2.476450e+13   \n",
      "2         6.944706e+12        2.069544e+12      9.141176e+11   \n",
      "3         1.558536e+13        4.811720e+12      1.371480e+12   \n",
      "4         1.342967e+13        6.275333e+12      2.752333e+12   \n",
      "\n",
      "         Market Cap (IDR)   Annual EPS  Return on Equity (%)  \\\n",
      "Cluster                                                        \n",
      "0            1.868167e+13   263.202632             10.747895   \n",
      "1            1.943788e+14  1811.407500             17.792500   \n",
      "2            9.123765e+12   252.703529             17.685882   \n",
      "3            1.551952e+13   166.085600              6.851200   \n",
      "4            1.940300e+13   220.940000             16.743333   \n",
      "\n",
      "         1 Year Price Returns (%)  3 Year Price Returns (%)  \\\n",
      "Cluster                                                       \n",
      "0                        8.373684                 11.141053   \n",
      "1                       -4.782500                  7.110000   \n",
      "2                       -7.570588                 -5.024706   \n",
      "3                      -10.229200                -18.177600   \n",
      "4                       45.760000                 89.616667   \n",
      "\n",
      "         5 Year Price Returns (%)  Dividend Yield (%)  Payout Ratio (%)  \n",
      "Cluster                                                                  \n",
      "0                       21.702632            2.556842         22.344211  \n",
      "1                        4.180000            7.527500         56.052500  \n",
      "2                        1.188824            9.459412        101.520588  \n",
      "3                      -23.050000            3.000800         26.254800  \n",
      "4                       80.673333            5.546667         44.343333  \n"
     ]
    }
   ],
   "source": [
    "# K-Means Clustering\n",
    "n_clusters = 5  # Jumlah cluster yang diinginkan\n",
    "kmeans = KMeans(n_clusters=n_clusters, random_state=42)\n",
    "clusters = kmeans.fit_predict(embeddings)\n",
    "\n",
    "# Tambahkan label cluster ke data\n",
    "data['Cluster'] = clusters\n",
    "\n",
    "# Hitung silhouette score\n",
    "sil_score = silhouette_score(embeddings, clusters)\n",
    "print(f\"Silhouette Score: {sil_score:.4f}\")\n",
    "\n",
    "# Hanya gunakan kolom numerik untuk analisis cluster\n",
    "numerical_cluster_data = data[numerical_features + ['Cluster']]\n",
    "\n",
    "# Analisis setiap cluster\n",
    "cluster_summary = numerical_cluster_data.groupby('Cluster').mean()\n",
    "print(\"Cluster Summary:\")\n",
    "print(cluster_summary)"
   ]
  },
  {
   "cell_type": "code",
   "execution_count": null,
   "metadata": {},
   "outputs": [
    {
     "name": "stdout",
     "output_type": "stream",
     "text": [
      "3/3 [==============================] - 0s 1ms/step\n",
      "Stock: CLPI, Similarity Score: 0.9201551885604858\n",
      "Kode Saham                            CLPI\n",
      "Revenue (IDR)               892000000000.0\n",
      "Gross Profit (IDR)          119000000000.0\n",
      "Net Income (IDR)             53000000000.0\n",
      "Market Cap (IDR)            323000000000.0\n",
      "Annual EPS                          171.38\n",
      "Return on Equity (%)                  9.56\n",
      "1 Year Price Returns (%)              6.03\n",
      "3 Year Price Returns (%)              1.93\n",
      "5 Year Price Returns (%)             38.82\n",
      "Dividend Yield (%)                   12.13\n",
      "Payout Ratio (%)                     74.84\n",
      "Name: 20, dtype: object\n",
      "--------------------------------------------------\n",
      "Stock: INCI, Similarity Score: 0.8752937984466553\n",
      "Kode Saham                            INCI\n",
      "Revenue (IDR)               377000000000.0\n",
      "Gross Profit (IDR)           81000000000.0\n",
      "Net Income (IDR)             19000000000.0\n",
      "Market Cap (IDR)            120000000000.0\n",
      "Annual EPS                          106.92\n",
      "Return on Equity (%)                  4.31\n",
      "1 Year Price Returns (%)              5.45\n",
      "3 Year Price Returns (%)              0.67\n",
      "5 Year Price Returns (%)             46.21\n",
      "Dividend Yield (%)                    6.03\n",
      "Payout Ratio (%)                     32.73\n",
      "Name: 32, dtype: object\n",
      "--------------------------------------------------\n",
      "Stock: BNLI, Similarity Score: 0.8029941091537476\n",
      "Kode Saham                              BNLI\n",
      "Revenue (IDR)               18507000000000.0\n",
      "Gross Profit (IDR)          11399000000000.0\n",
      "Net Income (IDR)             3230000000000.0\n",
      "Market Cap (IDR)            36000000000000.0\n",
      "Annual EPS                            102.65\n",
      "Return on Equity (%)                    7.67\n",
      "1 Year Price Returns (%)                6.99\n",
      "3 Year Price Returns (%)              -40.77\n",
      "5 Year Price Returns (%)                7.34\n",
      "Dividend Yield (%)                      2.51\n",
      "Payout Ratio (%)                       24.35\n",
      "Name: 16, dtype: object\n",
      "--------------------------------------------------\n",
      "Stock: KBLM, Similarity Score: 0.7677919173240662\n",
      "Kode Saham                             KBLM\n",
      "Revenue (IDR)               1861000000000.0\n",
      "Gross Profit (IDR)           131000000000.0\n",
      "Net Income (IDR)              71000000000.0\n",
      "Market Cap (IDR)             327000000000.0\n",
      "Annual EPS                            68.71\n",
      "Return on Equity (%)                   5.39\n",
      "1 Year Price Returns (%)               7.35\n",
      "3 Year Price Returns (%)              37.74\n",
      "5 Year Price Returns (%)              -5.81\n",
      "Dividend Yield (%)                     2.74\n",
      "Payout Ratio (%)                      11.64\n",
      "Name: 39, dtype: object\n",
      "--------------------------------------------------\n",
      "Stock: BNGA, Similarity Score: 0.6939794836044312\n",
      "Kode Saham                              BNGA\n",
      "Revenue (IDR)               23615000000000.0\n",
      "Gross Profit (IDR)          13173000000000.0\n",
      "Net Income (IDR)             6706000000000.0\n",
      "Market Cap (IDR)            44502000000000.0\n",
      "Annual EPS                            272.21\n",
      "Return on Equity (%)                   12.89\n",
      "1 Year Price Returns (%)                3.81\n",
      "3 Year Price Returns (%)                79.7\n",
      "5 Year Price Returns (%)               90.32\n",
      "Dividend Yield (%)                      6.95\n",
      "Payout Ratio (%)                       45.06\n",
      "Name: 14, dtype: object\n",
      "--------------------------------------------------\n",
      "Stock: EXCL, Similarity Score: 0.6201617527008056\n",
      "Kode Saham                              EXCL\n",
      "Revenue (IDR)               33816000000000.0\n",
      "Gross Profit (IDR)           4720000000000.0\n",
      "Net Income (IDR)             1577000000000.0\n",
      "Market Cap (IDR)            29539000000000.0\n",
      "Annual EPS                            133.72\n",
      "Return on Equity (%)                    6.17\n",
      "1 Year Price Returns (%)                 8.7\n",
      "3 Year Price Returns (%)              -28.34\n",
      "5 Year Price Returns (%)              -34.02\n",
      "Dividend Yield (%)                      2.18\n",
      "Payout Ratio (%)                       36.34\n",
      "Name: 28, dtype: object\n",
      "--------------------------------------------------\n",
      "Stock: PANS, Similarity Score: 0.5542101554870605\n",
      "Kode Saham                             PANS\n",
      "Revenue (IDR)                404000000000.0\n",
      "Gross Profit (IDR)           190800000000.0\n",
      "Net Income (IDR)             144000000000.0\n",
      "Market Cap (IDR)            1181000000000.0\n",
      "Annual EPS                            239.7\n",
      "Return on Equity (%)                   9.44\n",
      "1 Year Price Returns (%)               2.18\n",
      "3 Year Price Returns (%)              20.59\n",
      "5 Year Price Returns (%)              16.31\n",
      "Dividend Yield (%)                    10.98\n",
      "Payout Ratio (%)                       75.1\n",
      "Name: 48, dtype: object\n",
      "--------------------------------------------------\n",
      "Stock: AMAG, Similarity Score: 0.5442517466545105\n",
      "Kode Saham                             AMAG\n",
      "Revenue (IDR)                989000000000.0\n",
      "Gross Profit (IDR)           119400000000.0\n",
      "Net Income (IDR)             177000000000.0\n",
      "Market Cap (IDR)            1661000000000.0\n",
      "Annual EPS                            38.34\n",
      "Return on Equity (%)                   9.92\n",
      "1 Year Price Returns (%)               9.93\n",
      "3 Year Price Returns (%)              -3.49\n",
      "5 Year Price Returns (%)               9.93\n",
      "Dividend Yield (%)                      9.0\n",
      "Payout Ratio (%)                      78.25\n",
      "Name: 3, dtype: object\n",
      "--------------------------------------------------\n",
      "Stock: PTBA, Similarity Score: 0.47918285655975335\n",
      "Kode Saham                              PTBA\n",
      "Revenue (IDR)               41407000000000.0\n",
      "Gross Profit (IDR)           8842000000000.0\n",
      "Net Income (IDR)             5557000000000.0\n",
      "Market Cap (IDR)            31336000000000.0\n",
      "Annual EPS                            373.86\n",
      "Return on Equity (%)                    27.5\n",
      "1 Year Price Returns (%)               10.57\n",
      "3 Year Price Returns (%)                0.37\n",
      "5 Year Price Returns (%)               10.57\n",
      "Dividend Yield (%)                     14.63\n",
      "Payout Ratio (%)                      106.38\n",
      "Name: 50, dtype: object\n",
      "--------------------------------------------------\n",
      "Stock: SGRO, Similarity Score: 0.4789603700637817\n",
      "Kode Saham                             SGRO\n",
      "Revenue (IDR)               4944000000000.0\n",
      "Gross Profit (IDR)          1053000000000.0\n",
      "Net Income (IDR)             309000000000.0\n",
      "Market Cap (IDR)            4835000000000.0\n",
      "Annual EPS                           139.11\n",
      "Return on Equity (%)                   5.87\n",
      "1 Year Price Returns (%)               1.49\n",
      "3 Year Price Returns (%)              -3.32\n",
      "5 Year Price Returns (%)             -17.41\n",
      "Dividend Yield (%)                     5.93\n",
      "Payout Ratio (%)                      86.98\n",
      "Name: 53, dtype: object\n",
      "--------------------------------------------------\n"
     ]
    }
   ],
   "source": [
    "# Fungsi rekomendasi\n",
    "def recommend_with_model_and_returns_and_data(target_returns, top_n=10):\n",
    "    \"\"\"\n",
    "    target_returns: List atau array [1 Year Return, 3 Year Return, 5 Year Return]\n",
    "    \"\"\"\n",
    "    # Hitung jarak absolut ke semua saham lain berdasarkan return\n",
    "    return_diff = data[['1 Year Price Returns (%)']].apply(\n",
    "        lambda x: abs(x.values - target_returns).sum(), axis=1\n",
    "    )\n",
    "\n",
    "    # Ekstrak embedding dari model\n",
    "    embeddings = encoder.predict(features_scaled)\n",
    "\n",
    "    # Hitung rata-rata embedding target return (proyeksi ke ruang embedding)\n",
    "    avg_target_embedding = embeddings.mean(axis=0)\n",
    "\n",
    "    # Hitung jarak kosinus antara proyeksi target dan semua saham\n",
    "    similarity_scores = cosine_similarity([avg_target_embedding], embeddings).flatten()\n",
    "\n",
    "    # Skor gabungan: Pertimbangkan kemiripan embedding dan return (bobot seimbang)\n",
    "    combined_score = similarity_scores - 0.1 * return_diff  # Bobot 0.1 untuk jarak return\n",
    "\n",
    "    # Urutkan dan ambil top-n rekomendasi\n",
    "    similar_indices = combined_score.argsort()[::-1][:top_n]\n",
    "    similar_stocks = stocks.iloc[similar_indices]\n",
    "    similar_scores = combined_score[similar_indices]\n",
    "\n",
    "    # Ambil data saham terkait untuk rekomendasi\n",
    "    recommendations = []\n",
    "    for idx, score in zip(similar_indices, similar_scores):\n",
    "        stock_data = data.iloc[idx][['Kode Saham', 'Revenue (IDR)', 'Gross Profit (IDR)', 'Net Income (IDR)',\n",
    "                                     'Market Cap (IDR)', 'Annual EPS', 'Return on Equity (%)',\n",
    "                                     '1 Year Price Returns (%)', '3 Year Price Returns (%)', '5 Year Price Returns (%)',\n",
    "                                     'Dividend Yield (%)', 'Payout Ratio (%)']]\n",
    "        recommendations.append((stock_data, score))\n",
    "\n",
    "    return recommendations\n",
    "\n",
    "# Contoh penggunaan\n",
    "target_returns = [6]  # Misal return target\n",
    "result = recommend_with_model_and_returns_and_data(target_returns, top_n=10)\n",
    "\n",
    "# Tampilkan hasil dengan data saham\n",
    "for stock_info, score in result:\n",
    "    print(f\"Stock: {stock_info['Kode Saham']}, Similarity Score: {score}\")\n",
    "    print(stock_info[['Kode Saham', 'Revenue (IDR)', 'Gross Profit (IDR)', 'Net Income (IDR)', \n",
    "                      'Market Cap (IDR)', 'Annual EPS', 'Return on Equity (%)',\n",
    "                      '1 Year Price Returns (%)', '3 Year Price Returns (%)', '5 Year Price Returns (%)',\n",
    "                      'Dividend Yield (%)', 'Payout Ratio (%)']])\n",
    "    print(\"-\" * 50)"
   ]
  },
  {
   "cell_type": "code",
   "execution_count": null,
   "metadata": {},
   "outputs": [
    {
     "name": "stdout",
     "output_type": "stream",
     "text": [
      "Model Accuracy (scaled): 99.98%\n"
     ]
    }
   ],
   "source": [
    "# Skala ke 0-100 untuk akurasi rekonstruksi\n",
    "accuracy = max(0, 100 - mse * 100)  # Asumsi semakin rendah MSE semakin baik\n",
    "print(f\"Model Accuracy (scaled): {accuracy:.2f}%\")"
   ]
  },
  {
   "cell_type": "code",
   "execution_count": null,
   "metadata": {},
   "outputs": [
    {
     "name": "stdout",
     "output_type": "stream",
     "text": [
      "Model saved to: ../trainingModel\\stock_recommendation_model.h5\n"
     ]
    },
    {
     "name": "stderr",
     "output_type": "stream",
     "text": [
      "c:\\Users\\Ulhaq\\miniconda3\\envs\\recommender\\lib\\site-packages\\keras\\src\\engine\\training.py:3000: UserWarning: You are saving your model as an HDF5 file via `model.save()`. This file format is considered legacy. We recommend using instead the native Keras format, e.g. `model.save('my_model.keras')`.\n",
      "  saving_api.save_model(\n"
     ]
    }
   ],
   "source": [
    "# Buat folder jika belum ada\n",
    "folder_name = \"../trainingModel\"\n",
    "os.makedirs(folder_name, exist_ok=True)\n",
    "\n",
    "# Path lengkap untuk menyimpan model\n",
    "model_path = os.path.join(folder_name, \"stock_recommendation_model.h5\")\n",
    "\n",
    "# Simpan model ke folder\n",
    "model.save(model_path)\n",
    "print(f\"Model saved to: {model_path}\")"
   ]
  },
  {
   "cell_type": "code",
   "execution_count": null,
   "metadata": {},
   "outputs": [],
   "source": [
    "# import json\n",
    "# from sklearn.preprocessing import MinMaxScaler\n",
    "\n",
    "# # Simpan scaler sebagai file JSON\n",
    "# scaler_data = {\n",
    "#     'min': scaler.data_min_.tolist(),\n",
    "#     'scale': scaler.scale_.tolist()\n",
    "# }\n",
    "\n",
    "# with open('scaler.json', 'w') as f:\n",
    "#     json.dump(scaler_data, f)\n"
   ]
  },
  {
   "cell_type": "code",
   "execution_count": null,
   "metadata": {},
   "outputs": [],
   "source": [
    "# # Memuat kembali model dari folder\n",
    "# loaded_model = tf.keras.models.load_model(model_path)\n",
    "# print(\"Model loaded successfully.\")\n",
    "\n",
    "# # Ekstrak encoder dari model yang dimuat\n",
    "# loaded_encoder = tf.keras.Model(inputs=loaded_model.input, outputs=loaded_model.get_layer(\"embedding\").output)\n",
    "\n",
    "# # Mendapatkan kembali embedding menggunakan encoder yang dimuat\n",
    "# loaded_embeddings = loaded_encoder.predict(features_scaled)\n",
    "\n",
    "# # Hitung ulang kemiripan kosinus dengan model yang dimuat\n",
    "# loaded_similarity_matrix = cosine_similarity(loaded_embeddings)"
   ]
  },
  {
   "cell_type": "code",
   "execution_count": null,
   "metadata": {},
   "outputs": [],
   "source": [
    "# # Fungsi rekomendasi menggunakan model yang dimuat\n",
    "# def recommend_from_loaded_model(stock_name, top_n=3):\n",
    "#     idx = stocks[stocks == stock_name].index[0]\n",
    "    \n",
    "#     # Ambil skor kemiripan untuk saham tersebut\n",
    "#     similarity_scores = loaded_similarity_matrix[idx]\n",
    "    \n",
    "#     # Urutkan berdasarkan skor (kecuali saham itu sendiri)\n",
    "#     similar_indices = similarity_scores.argsort()[::-1][1:top_n+1]\n",
    "#     similar_stocks = stocks.iloc[similar_indices]\n",
    "#     similar_scores = similarity_scores[similar_indices]\n",
    "    \n",
    "#     # Gabungkan hasil (nama saham dan skor)\n",
    "#     recommendations = list(zip(similar_stocks, similar_scores))\n",
    "#     return recommendations"
   ]
  },
  {
   "cell_type": "code",
   "execution_count": null,
   "metadata": {},
   "outputs": [],
   "source": [
    "# # Contoh penggunaan\n",
    "# result = recommend_from_loaded_model('AALI', top_n=3)\n",
    "# print(result)"
   ]
  },
  {
   "cell_type": "code",
   "execution_count": null,
   "metadata": {},
   "outputs": [],
   "source": [
    "# # Mendapatkan prediksi rekonstruksi dari model\n",
    "# predicted_features = loaded_model.predict(features_scaled)\n",
    "\n",
    "# # Menghitung MAE antara input asli dan rekonstruksi\n",
    "# mae = mean_absolute_error(features_scaled, predicted_features)\n",
    "\n",
    "# print(f\"Mean Absolute Error (MAE) of the model: {mae:.4f}\")"
   ]
  }
 ],
 "metadata": {
  "kernelspec": {
   "display_name": "capstone3",
   "language": "python",
   "name": "python3"
  },
  "language_info": {
   "codemirror_mode": {
    "name": "ipython",
    "version": 3
   },
   "file_extension": ".py",
   "mimetype": "text/x-python",
   "name": "python",
   "nbconvert_exporter": "python",
   "pygments_lexer": "ipython3",
   "version": "3.10.15"
  }
 },
 "nbformat": 4,
 "nbformat_minor": 2
}
